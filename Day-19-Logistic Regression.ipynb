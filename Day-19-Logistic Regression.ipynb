{
 "cells": [
  {
   "cell_type": "code",
   "execution_count": null,
   "id": "1d7a7632",
   "metadata": {},
   "outputs": [],
   "source": [
    "# we have to calculate the w , b first we will calculate the partial derative term in gardient descentb\n",
    "# the f_wb - > sigmoid \n",
    "# i - > error"
   ]
  },
  {
   "cell_type": "code",
   "execution_count": 3,
   "id": "63489bbc",
   "metadata": {},
   "outputs": [],
   "source": [
    "import numpy as np"
   ]
  },
  {
   "cell_type": "code",
   "execution_count": null,
   "id": "86bffe40",
   "metadata": {},
   "outputs": [],
   "source": [
    "def compute_partiald(X,y,w,b):\n",
    "    m,n = X.shape\n",
    "    dj_dw = np.zeros((n,))                           #(n,)\n",
    "    dj_db = 0.\n",
    "\n",
    "    for i in range(m):\n",
    "        z_i = np.dot(X[i],w) + b\n",
    "        \n",
    "        f_wb = 1 / ( 1 + 2.71 ** - z_i )\n",
    "        \n",
    "        err_i= f_wb  - y[i]\n",
    "                 \n",
    "        for j in range(n):\n",
    "            dj_dw[j] = dj_dw[j] + err_i * X[i,j]      #scalar\n",
    "        dj_db = dj_db + err_i\n",
    "    dj_dw = dj_dw/m                                   #(n,)\n",
    "    dj_db = dj_db/m                                   #scalar\n",
    "        \n",
    "    return dj_db, dj_dw"
   ]
  },
  {
   "cell_type": "code",
   "execution_count": null,
   "id": "dc265cb5",
   "metadata": {},
   "outputs": [],
   "source": [
    "def compute_gradient(X,y,alpha,w_in,b_in,iters):\n",
    "    w = w_in\n",
    "    b = b_in\n",
    "    \n",
    "    for  i in range(iters) :\n",
    "        dj_dw , dj_db = compute_partiald(X,y,w,b)\n",
    "        w  = w - alpha * dj_dw\n",
    "        b  = b - alpha * dj_db\n",
    "    return w , b   \n",
    "    "
   ]
  },
  {
   "cell_type": "code",
   "execution_count": null,
   "id": "7edc4bb9",
   "metadata": {},
   "outputs": [],
   "source": [
    "b_tmp  = 0.\n",
    "alpha = 0.1\n",
    "iters = 9000\n",
    "X_train = np.array([[0.5, 1.5], [1,1], [1.5, 0.5], [3, 0.5], [2, 2], [1, 2.5]])  #(m,n)\n",
    "y_train = np.array([0, 0, 0, 1, 1, 1]) \n",
    "w_tmp  = np.zeros_like(X_train[0])"
   ]
  },
  {
   "cell_type": "code",
   "execution_count": null,
   "id": "cba655f7",
   "metadata": {},
   "outputs": [],
   "source": [
    "print(compute_gradient(X_train,y_train,alpha,w_tmp,b_tmp,iters))"
   ]
  }
 ],
 "metadata": {
  "kernelspec": {
   "display_name": "Python 3 (ipykernel)",
   "language": "python",
   "name": "python3"
  },
  "language_info": {
   "codemirror_mode": {
    "name": "ipython",
    "version": 3
   },
   "file_extension": ".py",
   "mimetype": "text/x-python",
   "name": "python",
   "nbconvert_exporter": "python",
   "pygments_lexer": "ipython3",
   "version": "3.10.8"
  }
 },
 "nbformat": 4,
 "nbformat_minor": 5
}
