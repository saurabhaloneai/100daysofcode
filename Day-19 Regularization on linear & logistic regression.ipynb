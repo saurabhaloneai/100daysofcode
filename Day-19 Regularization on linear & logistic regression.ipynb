{
 "cells": [
  {
   "cell_type": "code",
   "execution_count": 1,
   "id": "1ef6055b",
   "metadata": {},
   "outputs": [],
   "source": [
    "import numpy as np"
   ]
  },
  {
   "cell_type": "code",
   "execution_count": 28,
   "id": "208cfb26",
   "metadata": {},
   "outputs": [],
   "source": [
    "def compute_cost_lr(X,y,w,b,lambda_ = 1):\n",
    "    \n",
    "    m = X.shape[0]\n",
    "    n = len(w)\n",
    "    cost = 0\n",
    "    \n",
    "    for i in range(m):\n",
    "        f_wb = np.dot(X[i],w) + b\n",
    "        cost = cost + (f_wb - y[i]) ** 2\n",
    "    \n",
    "    cost = cost / (2 * m )\n",
    "    \n",
    "    overfit = 0\n",
    "    for j in range(n):\n",
    "        \n",
    "        overfit += (w[j] ** 2)\n",
    "        \n",
    "    overfit = (lambda_/(2*m)) * overfit  \n",
    "        \n",
    "        \n",
    "    cost = cost + overfit\n",
    "    \n",
    "    return cost\n",
    "\n",
    "    \n",
    "   \n",
    "    \n",
    "    \n",
    "    "
   ]
  },
  {
   "cell_type": "code",
   "execution_count": 29,
   "id": "b1a8c6ad",
   "metadata": {},
   "outputs": [
    {
     "name": "stdout",
     "output_type": "stream",
     "text": [
      "Regularized cost: 0.07917239320214275\n"
     ]
    }
   ],
   "source": [
    "np.random.seed(1)\n",
    "X_tmp = np.random.rand(5,6)\n",
    "y_tmp = np.array([0,1,0,1,0])\n",
    "w_tmp = np.random.rand(X_tmp.shape[1]).reshape(-1,)-0.5\n",
    "b_tmp = 0.5\n",
    "lambda_tmp = 0.7\n",
    "cost_tmp = compute_cost_lr(X_tmp, y_tmp, w_tmp, b_tmp, lambda_tmp)\n",
    "\n",
    "print(\"Regularized cost:\", cost_tmp)"
   ]
  },
  {
   "cell_type": "code",
   "execution_count": 64,
   "id": "ac48c248",
   "metadata": {},
   "outputs": [],
   "source": [
    "def compute_cost(X,y,w,b,lambda_=1):\n",
    "    m,n = X.shape\n",
    "    \n",
    "    \n",
    "    cost = 0 \n",
    "    \n",
    "    for i in range(m):\n",
    "        z_i = np.dot(X[i],w) + b\n",
    "        f_wb = 1 / ( 1 + 2.71 ** - z_i )\n",
    "       \n",
    "        cost +=  -y[i]*np.log(f_wb) - (1-y[i])*np.log(1-f_wb) \n",
    "        \n",
    "    cost = cost / m    \n",
    "    overfit= 0    \n",
    "    \n",
    "    for j in range(n):\n",
    "        \n",
    "        overfit += (w[j]**2)\n",
    "        \n",
    "    overfit =  (lambda_/ (2 * m)) * overfit\n",
    "    \n",
    "    total_cost = cost + overfit\n",
    "    \n",
    "    return total_cost\n",
    "        \n",
    "        \n",
    "                                                \n",
    "     "
   ]
  },
  {
   "cell_type": "code",
   "execution_count": 65,
   "id": "7b5fcd86",
   "metadata": {},
   "outputs": [
    {
     "name": "stdout",
     "output_type": "stream",
     "text": [
      "Regularized cost: 0.685125939177589\n"
     ]
    }
   ],
   "source": [
    "np.random.seed(1)\n",
    "X_tmp = np.random.rand(5,6)\n",
    "y_tmp = np.array([0,1,0,1,0])\n",
    "w_tmp = np.random.rand(X_tmp.shape[1]).reshape(-1,)-0.5\n",
    "b_tmp = 0.5\n",
    "lambda_tmp = 0.7\n",
    "cost_tmp = compute_cost(X_tmp, y_tmp, w_tmp, b_tmp, lambda_tmp)\n",
    "\n",
    "print(\"Regularized cost:\", cost_tmp)"
   ]
  },
  {
   "cell_type": "code",
   "execution_count": null,
   "id": "f905e0ba",
   "metadata": {},
   "outputs": [],
   "source": []
  }
 ],
 "metadata": {
  "kernelspec": {
   "display_name": "Python 3 (ipykernel)",
   "language": "python",
   "name": "python3"
  },
  "language_info": {
   "codemirror_mode": {
    "name": "ipython",
    "version": 3
   },
   "file_extension": ".py",
   "mimetype": "text/x-python",
   "name": "python",
   "nbconvert_exporter": "python",
   "pygments_lexer": "ipython3",
   "version": "3.10.8"
  }
 },
 "nbformat": 4,
 "nbformat_minor": 5
}
