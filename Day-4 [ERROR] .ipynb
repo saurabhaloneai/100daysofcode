{
 "cells": [
  {
   "cell_type": "code",
   "execution_count": 6,
   "id": "31089121",
   "metadata": {},
   "outputs": [],
   "source": [
    "import numpy as np\n",
    "\n",
    "x= np.array([[2104, 5, 1, 45], [1416, 3, 2, 40], [852, 2, 1, 35]])\n",
    "y= np.array([460, 232, 178])"
   ]
  },
  {
   "cell_type": "code",
   "execution_count": 35,
   "id": "3aef1f2c",
   "metadata": {},
   "outputs": [
    {
     "name": "stdout",
     "output_type": "stream",
     "text": [
      "3\n"
     ]
    }
   ],
   "source": [
    "b_in = 785.1811367994083\n",
    "w_in = np.array([ 0.39133535, 18.75376741, -53.36032453, -26.42131618])\n",
    "learning_rate = 0.01\n",
    "m = len(x)\n",
    "print(len(x))\n"
   ]
  },
  {
   "cell_type": "code",
   "execution_count": 36,
   "id": "31ab1a65",
   "metadata": {},
   "outputs": [],
   "source": [
    "def compute_cost(x,y,w,b):\n",
    "    error = 0\n",
    "    \n",
    "    for i in range(m):\n",
    "        f_wb = np.dot(x[i],w) + b\n",
    "        error = error + (f_wb - y[i]) ** 2\n",
    "    total_cost =  error / (2 * m)\n",
    "    \n",
    "    return total_cost"
   ]
  },
  {
   "cell_type": "code",
   "execution_count": 37,
   "id": "79da69a6",
   "metadata": {},
   "outputs": [
    {
     "name": "stdout",
     "output_type": "stream",
     "text": [
      "1.5578904045996674e-12\n"
     ]
    }
   ],
   "source": [
    "print(compute_cost(x,y,w_in,b_in))"
   ]
  },
  {
   "cell_type": "code",
   "execution_count": 39,
   "id": "6c9f702b",
   "metadata": {},
   "outputs": [
    {
     "name": "stdout",
     "output_type": "stream",
     "text": [
      "(3, 4)\n"
     ]
    }
   ],
   "source": [
    "print(x.shape)"
   ]
  },
  {
   "cell_type": "code",
   "execution_count": 41,
   "id": "5ecd7944",
   "metadata": {},
   "outputs": [],
   "source": [
    "learning_rate = 5.0e-7"
   ]
  },
  {
   "cell_type": "code",
   "execution_count": 47,
   "id": "b6e41dcd",
   "metadata": {},
   "outputs": [],
   "source": [
    "def gradient_descent(x, y, w, b, learning_rate):\n",
    "    m,n = x.shape\n",
    "    dj_dw = np.zeros((n,))\n",
    "    dj_db = 0.0\n",
    "    for i in range(m):\n",
    "        \n",
    "        err = (np.dot(x[i] , w) + b) - y[i]\n",
    "   \n",
    "        for j in range(n):\n",
    "        \n",
    "             dj_dw[j] = dj_dw[j] + err * X[i, j]  \n",
    "            \n",
    "        dj_db = dj_db + err \n",
    "        \n",
    "    dj_dw = dj_dw / m\n",
    "    dj_db = dj_db / m\n",
    "    \n",
    "    w[j]= w[j] - learning_rate * dj_dw\n",
    "    b = b - learning_rate * dj_db\n",
    "    return w[j] , b"
   ]
  },
  {
   "cell_type": "code",
   "execution_count": 48,
   "id": "b660f75a",
   "metadata": {},
   "outputs": [
    {
     "ename": "ValueError",
     "evalue": "setting an array element with a sequence.",
     "output_type": "error",
     "traceback": [
      "\u001b[0;31m---------------------------------------------------------------------------\u001b[0m",
      "\u001b[0;31mTypeError\u001b[0m                                 Traceback (most recent call last)",
      "\u001b[0;31mTypeError\u001b[0m: only size-1 arrays can be converted to Python scalars",
      "\nThe above exception was the direct cause of the following exception:\n",
      "\u001b[0;31mValueError\u001b[0m                                Traceback (most recent call last)",
      "Cell \u001b[0;32mIn[48], line 4\u001b[0m\n\u001b[1;32m      1\u001b[0m \u001b[38;5;66;03m##iteration\u001b[39;00m\n\u001b[1;32m      3\u001b[0m \u001b[38;5;28;01mfor\u001b[39;00m epoch \u001b[38;5;129;01min\u001b[39;00m \u001b[38;5;28mrange\u001b[39m(\u001b[38;5;241m1000\u001b[39m): \n\u001b[0;32m----> 4\u001b[0m     w,b \u001b[38;5;241m=\u001b[39m \u001b[43mgradient_descent\u001b[49m\u001b[43m(\u001b[49m\u001b[43mx\u001b[49m\u001b[43m,\u001b[49m\u001b[43my\u001b[49m\u001b[43m,\u001b[49m\u001b[43mw_in\u001b[49m\u001b[43m,\u001b[49m\u001b[43mb_in\u001b[49m\u001b[43m,\u001b[49m\u001b[43mlearning_rate\u001b[49m\u001b[43m)\u001b[49m\n\u001b[1;32m      5\u001b[0m     f_wb \u001b[38;5;241m=\u001b[39m np\u001b[38;5;241m.\u001b[39mdot(x[i],w) \u001b[38;5;241m+\u001b[39m b\n\u001b[1;32m      6\u001b[0m     loss \u001b[38;5;241m=\u001b[39m compute_cost(x,y,w,b)\n",
      "Cell \u001b[0;32mIn[47], line 18\u001b[0m, in \u001b[0;36mgradient_descent\u001b[0;34m(x, y, w, b, learning_rate)\u001b[0m\n\u001b[1;32m     15\u001b[0m dj_dw \u001b[38;5;241m=\u001b[39m dj_dw \u001b[38;5;241m/\u001b[39m m\n\u001b[1;32m     16\u001b[0m dj_db \u001b[38;5;241m=\u001b[39m dj_db \u001b[38;5;241m/\u001b[39m m\n\u001b[0;32m---> 18\u001b[0m w[j]\u001b[38;5;241m=\u001b[39m w[j] \u001b[38;5;241m-\u001b[39m learning_rate \u001b[38;5;241m*\u001b[39m dj_dw\n\u001b[1;32m     19\u001b[0m b \u001b[38;5;241m=\u001b[39m b \u001b[38;5;241m-\u001b[39m learning_rate \u001b[38;5;241m*\u001b[39m dj_db\n\u001b[1;32m     20\u001b[0m \u001b[38;5;28;01mreturn\u001b[39;00m w[j] , b\n",
      "\u001b[0;31mValueError\u001b[0m: setting an array element with a sequence."
     ]
    }
   ],
   "source": [
    "##iteration\n",
    "\n",
    "for epoch in range(1000): \n",
    "    w,b = gradient_descent(x,y,w_in,b_in,learning_rate)\n",
    "    f_wb = np.dot(x[i],w) + b\n",
    "    loss = compute_cost(x,y,w,b)\n",
    "  \n",
    "    print(f'{epoch} loss is {loss}, paramters w:{w}, b:{b}')\n",
    "print(x,y)"
   ]
  },
  {
   "cell_type": "code",
   "execution_count": null,
   "id": "ae1d16ab",
   "metadata": {},
   "outputs": [],
   "source": []
  }
 ],
 "metadata": {
  "kernelspec": {
   "display_name": "Python 3 (ipykernel)",
   "language": "python",
   "name": "python3"
  },
  "language_info": {
   "codemirror_mode": {
    "name": "ipython",
    "version": 3
   },
   "file_extension": ".py",
   "mimetype": "text/x-python",
   "name": "python",
   "nbconvert_exporter": "python",
   "pygments_lexer": "ipython3",
   "version": "3.10.8"
  }
 },
 "nbformat": 4,
 "nbformat_minor": 5
}
