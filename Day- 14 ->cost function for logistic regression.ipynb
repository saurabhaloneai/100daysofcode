{
 "cells": [
  {
   "cell_type": "markdown",
   "id": "0d583f1d",
   "metadata": {},
   "source": [
    "## Cost Function for logistic Regression"
   ]
  },
  {
   "cell_type": "code",
   "execution_count": 6,
   "id": "e1f5020f",
   "metadata": {},
   "outputs": [],
   "source": [
    "import numpy as np"
   ]
  },
  {
   "cell_type": "code",
   "execution_count": 7,
   "id": "af94f9c3",
   "metadata": {},
   "outputs": [],
   "source": [
    "X_train = np.array([[0.5, 1.5], [1,1], [1.5, 0.5], [3, 0.5], [2, 2], [1, 2.5]])  #(m,n)\n",
    "y_train = np.array([0, 0, 0, 1, 1, 1])      "
   ]
  },
  {
   "cell_type": "code",
   "execution_count": 10,
   "id": "372a286a",
   "metadata": {},
   "outputs": [],
   "source": [
    "w_tmp = np.array([1,1])\n",
    "b_tmp = -3"
   ]
  },
  {
   "cell_type": "code",
   "execution_count": 20,
   "id": "a07151fe",
   "metadata": {},
   "outputs": [],
   "source": [
    "def cost_function(X,y,w,b):\n",
    "    \n",
    "    cost = 0.0 \n",
    "    m = len(X)\n",
    "    \n",
    "    for i in range(m):\n",
    "        z_i = np.dot(X[i],w) + b\n",
    "        f_wb_i = 1 / ( 1 + 2.71 ** - z_i )\n",
    "        cost += -y[i]*np.log(f_wb_i) - (1-y[i])* np.log(1-f_wb_i)\n",
    "        \n",
    "    cost = cost / m   \n",
    "    \n",
    "    return cost"
   ]
  },
  {
   "cell_type": "code",
   "execution_count": 21,
   "id": "d67c91bc",
   "metadata": {},
   "outputs": [
    {
     "name": "stdout",
     "output_type": "stream",
     "text": [
      "0.3676065827971428\n"
     ]
    }
   ],
   "source": [
    "print(cost_function(X_train,y_train,w_tmp,b_tmp))"
   ]
  },
  {
   "cell_type": "code",
   "execution_count": null,
   "id": "9f9d3679",
   "metadata": {},
   "outputs": [],
   "source": [
    "sigmoid = 1 / ( 1 + 2.71 ** - z_i )"
   ]
  }
 ],
 "metadata": {
  "kernelspec": {
   "display_name": "Python 3 (ipykernel)",
   "language": "python",
   "name": "python3"
  },
  "language_info": {
   "codemirror_mode": {
    "name": "ipython",
    "version": 3
   },
   "file_extension": ".py",
   "mimetype": "text/x-python",
   "name": "python",
   "nbconvert_exporter": "python",
   "pygments_lexer": "ipython3",
   "version": "3.10.8"
  }
 },
 "nbformat": 4,
 "nbformat_minor": 5
}
