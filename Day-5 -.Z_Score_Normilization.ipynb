{
 "cells": [
  {
   "cell_type": "code",
   "execution_count": 29,
   "id": "b8d2e946",
   "metadata": {},
   "outputs": [],
   "source": [
    "import numpy as np\n",
    "import pandas as pd\n",
    "import matplotlib.pyplot as plt"
   ]
  },
  {
   "cell_type": "code",
   "execution_count": 6,
   "id": "bf60f5d1",
   "metadata": {},
   "outputs": [],
   "source": [
    "df = pd.read_csv('car-sales.csv')"
   ]
  },
  {
   "cell_type": "code",
   "execution_count": 7,
   "id": "f5aa52a6",
   "metadata": {},
   "outputs": [],
   "source": [
    "df2 = df.head(5)"
   ]
  },
  {
   "cell_type": "code",
   "execution_count": 13,
   "id": "c56adb51",
   "metadata": {},
   "outputs": [
    {
     "data": {
      "text/html": [
       "<div>\n",
       "<style scoped>\n",
       "    .dataframe tbody tr th:only-of-type {\n",
       "        vertical-align: middle;\n",
       "    }\n",
       "\n",
       "    .dataframe tbody tr th {\n",
       "        vertical-align: top;\n",
       "    }\n",
       "\n",
       "    .dataframe thead th {\n",
       "        text-align: right;\n",
       "    }\n",
       "</style>\n",
       "<table border=\"1\" class=\"dataframe\">\n",
       "  <thead>\n",
       "    <tr style=\"text-align: right;\">\n",
       "      <th></th>\n",
       "      <th>Make</th>\n",
       "      <th>Colour</th>\n",
       "      <th>Odometer (KM)</th>\n",
       "      <th>Doors</th>\n",
       "      <th>Price</th>\n",
       "    </tr>\n",
       "  </thead>\n",
       "  <tbody>\n",
       "    <tr>\n",
       "      <th>0</th>\n",
       "      <td>Toyota</td>\n",
       "      <td>White</td>\n",
       "      <td>150043</td>\n",
       "      <td>4</td>\n",
       "      <td>$4,000.00</td>\n",
       "    </tr>\n",
       "    <tr>\n",
       "      <th>1</th>\n",
       "      <td>Honda</td>\n",
       "      <td>Red</td>\n",
       "      <td>87899</td>\n",
       "      <td>4</td>\n",
       "      <td>$5,000.00</td>\n",
       "    </tr>\n",
       "    <tr>\n",
       "      <th>2</th>\n",
       "      <td>Toyota</td>\n",
       "      <td>Blue</td>\n",
       "      <td>32549</td>\n",
       "      <td>3</td>\n",
       "      <td>$7,000.00</td>\n",
       "    </tr>\n",
       "    <tr>\n",
       "      <th>3</th>\n",
       "      <td>BMW</td>\n",
       "      <td>Black</td>\n",
       "      <td>11179</td>\n",
       "      <td>5</td>\n",
       "      <td>$22,000.00</td>\n",
       "    </tr>\n",
       "    <tr>\n",
       "      <th>4</th>\n",
       "      <td>Nissan</td>\n",
       "      <td>White</td>\n",
       "      <td>213095</td>\n",
       "      <td>4</td>\n",
       "      <td>$3,500.00</td>\n",
       "    </tr>\n",
       "  </tbody>\n",
       "</table>\n",
       "</div>"
      ],
      "text/plain": [
       "     Make Colour  Odometer (KM)  Doors       Price\n",
       "0  Toyota  White         150043      4   $4,000.00\n",
       "1   Honda    Red          87899      4   $5,000.00\n",
       "2  Toyota   Blue          32549      3   $7,000.00\n",
       "3     BMW  Black          11179      5  $22,000.00\n",
       "4  Nissan  White         213095      4   $3,500.00"
      ]
     },
     "execution_count": 13,
     "metadata": {},
     "output_type": "execute_result"
    }
   ],
   "source": [
    "df2.head(5)"
   ]
  },
  {
   "cell_type": "code",
   "execution_count": 16,
   "id": "d15a93d5",
   "metadata": {},
   "outputs": [],
   "source": [
    "X = df2\n",
    "X_features = ['Make','Colour','Odometer (KM)','Doors','Price']"
   ]
  },
  {
   "cell_type": "code",
   "execution_count": 18,
   "id": "850b2032",
   "metadata": {},
   "outputs": [],
   "source": [
    "def coumpute_z_score_normilaization(x):\n",
    "    mu = np.mean(X,axis=0)\n",
    "    sigma = np.std(X,axis=0)\n",
    "    z_norm = X - mu / sigma\n",
    "    \n",
    "    return z_norm"
   ]
  },
  {
   "cell_type": "code",
   "execution_count": 33,
   "id": "df69b8ac",
   "metadata": {},
   "outputs": [],
   "source": [
    "df2 = pd.get_dummies(df2).head()\n",
    "X_train = df2\n",
    "X_features = ['Make','Colour','Odometer (KM)','Doors','Price']"
   ]
  },
  {
   "cell_type": "code",
   "execution_count": 48,
   "id": "061ef5c4",
   "metadata": {},
   "outputs": [],
   "source": [
    "from sklearn.preprocessing import scale\n",
    "X_scale = scale(X, axis=0, with_mean=True, with_std=True, copy=True)"
   ]
  },
  {
   "cell_type": "code",
   "execution_count": 49,
   "id": "bee97be4",
   "metadata": {},
   "outputs": [
    {
     "data": {
      "text/plain": [
       "array([[ 0.68425352,  0.        , -0.5       , -0.5       , -0.5       ,\n",
       "         1.22474487, -0.5       , -0.5       , -0.5       ,  1.22474487,\n",
       "        -0.5       , -0.5       ,  2.        , -0.5       , -0.5       ],\n",
       "       [-0.14804734,  0.        , -0.5       ,  2.        , -0.5       ,\n",
       "        -0.81649658, -0.5       , -0.5       ,  2.        , -0.81649658,\n",
       "        -0.5       , -0.5       , -0.5       ,  2.        , -0.5       ],\n",
       "       [-0.88935546, -1.58113883, -0.5       , -0.5       , -0.5       ,\n",
       "         1.22474487, -0.5       ,  2.        , -0.5       , -0.81649658,\n",
       "        -0.5       , -0.5       , -0.5       , -0.5       ,  2.        ],\n",
       "       [-1.17556603,  1.58113883,  2.        , -0.5       , -0.5       ,\n",
       "        -0.81649658,  2.        , -0.5       , -0.5       , -0.81649658,\n",
       "         2.        , -0.5       , -0.5       , -0.5       , -0.5       ],\n",
       "       [ 1.52871531,  0.        , -0.5       , -0.5       ,  2.        ,\n",
       "        -0.81649658, -0.5       , -0.5       , -0.5       ,  1.22474487,\n",
       "        -0.5       ,  2.        , -0.5       , -0.5       , -0.5       ]])"
      ]
     },
     "execution_count": 49,
     "metadata": {},
     "output_type": "execute_result"
    }
   ],
   "source": [
    "X_scale"
   ]
  },
  {
   "cell_type": "code",
   "execution_count": 52,
   "id": "c2187779",
   "metadata": {},
   "outputs": [
    {
     "ename": "AttributeError",
     "evalue": "'numpy.ndarray' object has no attribute 'info'",
     "output_type": "error",
     "traceback": [
      "\u001b[0;31m---------------------------------------------------------------------------\u001b[0m",
      "\u001b[0;31mAttributeError\u001b[0m                            Traceback (most recent call last)",
      "Cell \u001b[0;32mIn[52], line 1\u001b[0m\n\u001b[0;32m----> 1\u001b[0m \u001b[43mX_scale\u001b[49m\u001b[38;5;241;43m.\u001b[39;49m\u001b[43minfo\u001b[49m\n",
      "\u001b[0;31mAttributeError\u001b[0m: 'numpy.ndarray' object has no attribute 'info'"
     ]
    }
   ],
   "source": []
  },
  {
   "cell_type": "code",
   "execution_count": null,
   "id": "4e1747ab",
   "metadata": {},
   "outputs": [],
   "source": []
  }
 ],
 "metadata": {
  "kernelspec": {
   "display_name": "Python 3 (ipykernel)",
   "language": "python",
   "name": "python3"
  },
  "language_info": {
   "codemirror_mode": {
    "name": "ipython",
    "version": 3
   },
   "file_extension": ".py",
   "mimetype": "text/x-python",
   "name": "python",
   "nbconvert_exporter": "python",
   "pygments_lexer": "ipython3",
   "version": "3.10.8"
  }
 },
 "nbformat": 4,
 "nbformat_minor": 5
}
