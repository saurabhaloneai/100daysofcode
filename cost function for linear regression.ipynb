{
 "cells": [
  {
   "cell_type": "markdown",
   "id": "91ede014",
   "metadata": {},
   "source": [
    "## Calculating the cost for linear regression"
   ]
  },
  {
   "cell_type": "code",
   "execution_count": 12,
   "id": "a071921c",
   "metadata": {},
   "outputs": [],
   "source": [
    "import numpy as np"
   ]
  },
  {
   "cell_type": "code",
   "execution_count": 13,
   "id": "05658af2",
   "metadata": {},
   "outputs": [],
   "source": [
    "##Data\n",
    "\n",
    "x_train = np.array([1.,2.])\n",
    "y_train = np.array([300,500])"
   ]
  },
  {
   "cell_type": "code",
   "execution_count": 21,
   "id": "f07c99cb",
   "metadata": {},
   "outputs": [],
   "source": [
    "##you can find this value by gradient descent\n",
    "w= 200\n",
    "b = 100"
   ]
  },
  {
   "cell_type": "code",
   "execution_count": 20,
   "id": "461b1751",
   "metadata": {},
   "outputs": [],
   "source": [
    "def compute_cost(x_train,y_train,w,b):\n",
    "    \n",
    "    m = len(x_train)\n",
    "    i = 0 \n",
    "    error_sum = 0\n",
    "    \n",
    "    for i in range(m):\n",
    "        f_wb = w * x[i] + b\n",
    "        \n",
    "        error = (f_wb[i] - y[i]) ** 2 \n",
    "        \n",
    "        error_sum = error_sum + error\n",
    "        \n",
    "    total_cost = (0.5*m) * error_sum   \n",
    "        \n",
    "    return total_cost    "
   ]
  },
  {
   "cell_type": "markdown",
   "id": "992ab3e3",
   "metadata": {},
   "source": [
    "## Conclusion"
   ]
  },
  {
   "cell_type": "markdown",
   "id": "ccd0ef3d",
   "metadata": {},
   "source": [
    "##The cost equation provides a measure of how well your predictions match your training data.\n",
    "\n",
    "##Minimizing the cost can provide optimal values of  𝑤 ,b"
   ]
  },
  {
   "cell_type": "code",
   "execution_count": null,
   "id": "dbeb565d",
   "metadata": {},
   "outputs": [],
   "source": []
  }
 ],
 "metadata": {
  "kernelspec": {
   "display_name": "Python 3 (ipykernel)",
   "language": "python",
   "name": "python3"
  },
  "language_info": {
   "codemirror_mode": {
    "name": "ipython",
    "version": 3
   },
   "file_extension": ".py",
   "mimetype": "text/x-python",
   "name": "python",
   "nbconvert_exporter": "python",
   "pygments_lexer": "ipython3",
   "version": "3.10.8"
  }
 },
 "nbformat": 4,
 "nbformat_minor": 5
}
